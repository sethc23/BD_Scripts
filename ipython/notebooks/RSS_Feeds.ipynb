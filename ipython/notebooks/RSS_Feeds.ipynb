{
 "cells": [
  {
   "cell_type": "code",
   "execution_count": null,
   "metadata": {
    "collapsed": true,
    "run_control": {
     "read_only": false
    }
   },
   "outputs": [],
   "source": [
    "{'socat':[{'url':'http://www.dest-unreach.org/socat/download/',\n",
    "           'last_accessed':'2014-12-19T12:55:10.345560',\n",
    "          'frequency':'weekly'}],\n",
    " }"
   ]
  },
  {
   "cell_type": "code",
   "execution_count": 1,
   "metadata": {
    "collapsed": true,
    "run_control": {
     "read_only": false
    }
   },
   "outputs": [],
   "source": [
    "from datetime import datetime as DT"
   ]
  },
  {
   "cell_type": "code",
   "execution_count": 3,
   "metadata": {
    "collapsed": false,
    "run_control": {
     "read_only": false
    }
   },
   "outputs": [
    {
     "data": {
      "text/plain": [
       "'2014-12-19T12:55:10.345560'"
      ]
     },
     "execution_count": 3,
     "metadata": {},
     "output_type": "execute_result"
    }
   ],
   "source": [
    "DT.isoformat(DT.now())"
   ]
  },
  {
   "cell_type": "code",
   "execution_count": 3,
   "metadata": {
    "code_folding": [],
    "collapsed": false,
    "run_control": {
     "read_only": false
    }
   },
   "outputs": [],
   "source": [
    "# Libraries\n",
    "THIS_NOTEBOOK = 'RSS_Feeds'\n",
    "from string import printable\n",
    "from urllib import urlopen\n",
    "from bs4 import BeautifulSoup as bs\n",
    "from feedparser import parse\n",
    "from datetime import datetime as DT\n",
    "import PyRSS2Gen\n",
    "auth = \"mech_coder:money4me@\"\n",
    "try:\n",
    "    f = 'https://%snews.ycombinator.com/best'%auth\n",
    "    r = urlopen(f).read()\n",
    "except:\n",
    "    f = 'https://news.ycombinator.com/best'\n",
    "    import requests\n",
    "    cookies = {\n",
    "        \"domain\": \".ycombinator.com\",\n",
    "        \"expirationDate\": '1449702056.929475',\n",
    "        \"hostOnly\": 'false',\n",
    "        \"httpOnly\": 'true',\n",
    "        \"name\": \"__cfduid\",\n",
    "        \"path\": \"/\",\n",
    "        \"secure\": 'false',\n",
    "        \"session\": 'false',\n",
    "        \"storeId\": \"0\",\n",
    "        \"value\": \"dd57927c7d88b93415f1462af903f6f411418166056\",\n",
    "        \"id\": '1'\n",
    "    }\n",
    "    r = requests.get(f, cookies=cookies).content\n",
    "    \n",
    "sp = bs(r)\n",
    "cl = sp.decode()\n",
    "d = parse(cl)\n",
    "# d.feed.keys()  # = ['meta', 'summary', 'links', 'script']\n",
    "summ=d.feed['summary']\n",
    "tables = bs(summ).findAll('table')\n",
    "all_rows = tables[2].contents\n",
    "all_title_rows = [row for row in all_rows if row.next.contents!=[] and row.td!=None and row.td.attrs['class']==['title']]\n",
    "item_list=[]\n",
    "for row in all_title_rows:\n",
    "    cols = row.findAll('td')\n",
    "    num  = str(cols[0].contents[0])\n",
    "    link = str(cols[2].a.attrs['href'])\n",
    "    title= str(filter(lambda x: x in printable,unicode(cols[2].a.contents[0])))\n",
    "    item_list.append(PyRSS2Gen.RSSItem(\n",
    "        title=title,\n",
    "        link=link,\n",
    "        description=title,\n",
    "        guid=PyRSS2Gen.Guid(title),\n",
    "        pubDate = DT.now()\n",
    "                    ))\n",
    "    \n",
    "rss = PyRSS2Gen.RSS2(\n",
    "    title = \"Hacker News Best\",\n",
    "    link = \"https://news.ycombinator.com/best\",\n",
    "    description = \"\",\n",
    "    lastBuildDate = DT.now(),\n",
    "    items = item_list)\n",
    "rss.write_xml(open(\"feeds/hacker_news_best.xml\", \"w\"))"
   ]
  },
  {
   "cell_type": "markdown",
   "metadata": {},
   "source": [
    "##Additional Features to Add:\n",
    "- read previous and avoid duplicates\n",
    "- continue moving onto next page"
   ]
  },
  {
   "cell_type": "code",
   "execution_count": 5,
   "metadata": {
    "collapsed": false
   },
   "outputs": [],
   "source": [
    "!cp feeds/hacker_news_best.xml /Volumes/mbp2/Users/admin/Desktop/"
   ]
  },
  {
   "cell_type": "code",
   "execution_count": 121,
   "metadata": {
    "collapsed": false,
    "run_control": {
     "read_only": false
    }
   },
   "outputs": [
    {
     "data": {
      "text/html": [
       "<html><head><meta name=\"referrer\" content=\"origin\"></meta><link rel=\"stylesheet\" type=\"text/css\" href=\"news.css?JJBWAqZHAJqVEIjKQlN7\"></link><link rel=\"shortcut icon\" href=\"favicon.ico\"></link><script type=\"text/javascript\">\n",
       "function byId(id) {\n",
       "  return document.getElementById(id);\n",
       "}\n",
       "\n",
       "function vote(node) {\n",
       "  var v = node.id.split(/_/);   // {'up', '123'}\n",
       "  var item = v[1];\n",
       "\n",
       "  // hide arrows\n",
       "  byId('up_'   + item).style.visibility = 'hidden';\n",
       "  byId('down_' + item).style.visibility = 'hidden';\n",
       "\n",
       "  // ping server\n",
       "  var ping = new Image();\n",
       "  ping.src = node.href;\n",
       "\n",
       "  return false; // cancel browser nav\n",
       "} </script><title>Top Links | Hacker News</title></head><body><center><table border=\"0\" cellpadding=\"0\" cellspacing=\"0\" width=\"85%\" bgcolor=\"#f6f6ef\"><tr><td bgcolor=\"#ff6600\"><table border=\"0\" cellpadding=\"0\" cellspacing=\"0\" width=\"100%\" style=\"padding:2px\"><tr><td style=\"width:18px;padding-right:4px\"><a href=\"http://www.ycombinator.com\"><img src=\"y18.gif\" width=\"18\" height=\"18\" style=\"border:1px #ffffff solid;\"></img></a></td><td style=\"line-height:12pt; height:10px;\"><span class=\"pagetop\"><b><a href=\"news\">Hacker News</a></b><img src=\"s.gif\" height=\"1\" width=\"10\"><a href=\"newest\">new</a> | <a href=\"newcomments\">comments</a> | <a href=\"show\">show</a> | <a href=\"ask\">ask</a> | <a href=\"jobs\">jobs</a> | <a href=\"submit\">submit</a> | <font color=\"#ffffff\">best</font></span></td><td style=\"text-align:right;padding-right:4px;\"><span class=\"pagetop\"><a href=\"login?whence=%62%65%73%74\">login</a></span></td></tr></table></td></tr><tr style=\"height:10px\"></tr><tr><td><table border=\"0\" cellpadding=\"0\" cellspacing=\"0\"><tr><td align=\"right\" valign=\"top\" class=\"title\">1.</td><td><center><a id=\"up_8758915\" href=\"vote?for=8758915&amp;dir=up&amp;whence=%62%65%73%74\"><div class=\"votearrow\" title=\"upvote\"></div></a><span id=\"down_8758915\"></span></center></td><td class=\"title\"><a href=\"http://www.drdobbs.com/240169421\">Farewell, Dr. Dobb's</a><span class=\"comhead\"> (drdobbs.com) </span></td></tr><tr><td colspan=\"2\"></td><td class=\"subtext\"><span id=\"score_8758915\">1010 points</span> by <a href=\"user?id=andrewbinstock\">andrewbinstock</a> 1 day ago  | <a href=\"item?id=8758915\">312 comments</a></td></tr><tr style=\"height:5px\"></tr><tr><td align=\"right\" valign=\"top\" class=\"title\">2.</td><td><center><a id=\"up_8753526\" href=\"vote?for=8753526&amp;dir=up&amp;whence=%62%65%73%74\"><div class=\"votearrow\" title=\"upvote\"></div></a><span id=\"down_8753526\"></span></center></td><td class=\"title\"><a href=\"http://paulgraham.com/know.html\">How You Know</a><span class=\"comhead\"> (paulgraham.com) </span></td></tr><tr><td colspan=\"2\"></td><td class=\"subtext\"><span id=\"score_8753526\">677 points</span> by <a href=\"user?id=_pius\">_pius</a> 2 days ago  | <a href=\"item?id=8753526\">256 comments</a></td></tr><tr style=\"height:5px\"></tr><tr><td align=\"right\" valign=\"top\" class=\"title\">3.</td><td><center><a id=\"up_8754036\" href=\"vote?for=8754036&amp;dir=up&amp;whence=%62%65%73%74\"><div class=\"votearrow\" title=\"upvote\"></div></a><span id=\"down_8754036\"></span></center></td><td class=\"title\"><a href=\"http://www.gatesnotes.com/About-Bill-Gates/Year-in-Review-2014\">Good News You May Have Missed in 2014</a><span class=\"comhead\"> (gatesnotes.com) </span></td></tr><tr><td colspan=\"2\"></td><td class=\"subtext\"><span id=\"score_8754036\">645 points</span> by <a href=\"user?id=prajjwal\">prajjwal</a> 2 days ago  | <a href=\"item?id=8754036\">112 comments</a></td></tr><tr style=\"height:5px\"></tr><tr><td align=\"right\" valign=\"top\" class=\"title\">4.</td><td><center><a id=\"up_8758678\" href=\"vote?for=8758678&amp;dir=up&amp;whence=%62%65%73%74\"><div class=\"votearrow\" title=\"upvote\"></div></a><span id=\"down_8758678\"></span></center></td><td class=\"title\"><a href=\"http://blog.danlew.net/2014/11/26/i-dont-need-your-permission/\">Android: I don't need your permission</a><span class=\"comhead\"> (danlew.net) </span></td></tr><tr><td colspan=\"2\"></td><td class=\"subtext\"><span id=\"score_8758678\">531 points</span> by <a href=\"user?id=dopkew\">dopkew</a> 1 day ago  | <a href=\"item?id=8758678\">180 comments</a></td></tr><tr style=\"height:5px\"></tr><tr><td align=\"right\" valign=\"top\" class=\"title\">5.</td><td><center><a id=\"up_8751863\" href=\"vote?for=8751863&amp;dir=up&amp;whence=%62%65%73%74\"><div class=\"votearrow\" title=\"upvote\"></div></a><span id=\"down_8751863\"></span></center></td><td class=\"title\"><a href=\"https://graemereynolds.wordpress.com/2014/12/14/hyphen-hate-when-amazon-went-to-war-against-punctuation/\">Hyphen Hate? When Amazon went to war against punctuation</a><span class=\"comhead\"> (graemereynolds.wordpress.com) </span></td></tr><tr><td colspan=\"2\"></td><td class=\"subtext\"><span id=\"score_8751863\">486 points</span> by <a href=\"user?id=Jare\">Jare</a> 2 days ago  | <a href=\"item?id=8751863\">172 comments</a></td></tr><tr style=\"height:5px\"></tr><tr><td align=\"right\" valign=\"top\" class=\"title\">6.</td><td><center><a id=\"up_8758196\" href=\"vote?for=8758196&amp;dir=up&amp;whence=%62%65%73%74\"><div class=\"votearrow\" title=\"upvote\"></div></a><span id=\"down_8758196\"></span></center></td><td class=\"title\"><a href=\"http://robertheaton.com/2014/12/08/fun-with-your-friends-facebook-and-tinder-session-tokens/\">Fun with your friend's Facebook and Tinder sessions</a><span class=\"comhead\"> (robertheaton.com) </span></td></tr><tr><td colspan=\"2\"></td><td class=\"subtext\"><span id=\"score_8758196\">480 points</span> by <a href=\"user?id=aitskovi\">aitskovi</a> 1 day ago  | <a href=\"item?id=8758196\">55 comments</a></td></tr><tr style=\"height:5px\"></tr><tr><td align=\"right\" valign=\"top\" class=\"title\">7.</td><td><center><a id=\"up_8755521\" href=\"vote?for=8755521&amp;dir=up&amp;whence=%62%65%73%74\"><div class=\"votearrow\" title=\"upvote\"></div></a><span id=\"down_8755521\"></span></center></td><td class=\"title\"><a href=\"http://xooyoozoo.github.io/yolo-octo-bugfixes/#soccer-players&amp;webp=s&amp;bpg=s\">BPG Image Comparison</a><span class=\"comhead\"> (xooyoozoo.github.io) </span></td></tr><tr><td colspan=\"2\"></td><td class=\"subtext\"><span id=\"score_8755521\">356 points</span> by <a href=\"user?id=rayshan\">rayshan</a> 2 days ago  | <a href=\"item?id=8755521\">122 comments</a></td></tr><tr style=\"height:5px\"></tr><tr><td align=\"right\" valign=\"top\" class=\"title\">8.</td><td><center><a id=\"up_8761539\" href=\"vote?for=8761539&amp;dir=up&amp;whence=%62%65%73%74\"><div class=\"votearrow\" title=\"upvote\"></div></a><span id=\"down_8761539\"></span></center></td><td class=\"title\"><a href=\"http://yarchive.net/comp/linux/semaphores.html\">Linus Torvalds on semaphores (1999)</a><span class=\"comhead\"> (yarchive.net) </span></td></tr><tr><td colspan=\"2\"></td><td class=\"subtext\"><span id=\"score_8761539\">338 points</span> by <a href=\"user?id=rainbowgarden\">rainbowgarden</a> 1 day ago  | <a href=\"item?id=8761539\">104 comments</a></td></tr><tr style=\"height:5px\"></tr><tr><td align=\"right\" valign=\"top\" class=\"title\">9.</td><td><center><a id=\"up_8762871\" href=\"vote?for=8762871&amp;dir=up&amp;whence=%62%65%73%74\"><div class=\"votearrow\" title=\"upvote\"></div></a><span id=\"down_8762871\"></span></center></td><td class=\"title\"><a href=\"http://www.bloomberg.com/news/2014-12-17/obama-to-announce-u-s-cuba-relations-shift-as-gross-is-released.html\">Cuba and the U.S. will begin to normalize relations</a><span class=\"comhead\"> (bloomberg.com) </span></td></tr><tr><td colspan=\"2\"></td><td class=\"subtext\"><span id=\"score_8762871\">320 points</span> by <a href=\"user?id=coreymgilmore\">coreymgilmore</a> 19 hours ago  | <a href=\"item?id=8762871\">258 comments</a></td></tr><tr style=\"height:5px\"></tr><tr><td align=\"right\" valign=\"top\" class=\"title\">10.</td><td><center><a id=\"up_8753565\" href=\"vote?for=8753565&amp;dir=up&amp;whence=%62%65%73%74\"><div class=\"votearrow\" title=\"upvote\"></div></a><span id=\"down_8753565\"></span></center></td><td class=\"title\"><a href=\"http://mapthebanks.com/\">Map the Banks</a><span class=\"comhead\"> (mapthebanks.com) </span></td></tr><tr><td colspan=\"2\"></td><td class=\"subtext\"><span id=\"score_8753565\">318 points</span> by <a href=\"user?id=chippy\">chippy</a> 2 days ago  | <a href=\"item?id=8753565\">96 comments</a></td></tr><tr style=\"height:5px\"></tr><tr><td align=\"right\" valign=\"top\" class=\"title\">11.</td><td><center><a id=\"up_8762705\" href=\"vote?for=8762705&amp;dir=up&amp;whence=%62%65%73%74\"><div class=\"votearrow\" title=\"upvote\"></div></a><span id=\"down_8762705\"></span></center></td><td class=\"title\"><a href=\"https://github.com/Kintaro/wtftw\">A tiling window manager written in Rust</a><span class=\"comhead\"> (github.com) </span></td></tr><tr><td colspan=\"2\"></td><td class=\"subtext\"><span id=\"score_8762705\">298 points</span> by <a href=\"user?id=TheHydroImpulse\">TheHydroImpulse</a> 20 hours ago  | <a href=\"item?id=8762705\">152 comments</a></td></tr><tr style=\"height:5px\"></tr><tr><td align=\"right\" valign=\"top\" class=\"title\">12.</td><td><center><a id=\"up_8762493\" href=\"vote?for=8762493&amp;dir=up&amp;whence=%62%65%73%74\"><div class=\"votearrow\" title=\"upvote\"></div></a><span id=\"down_8762493\"></span></center></td><td class=\"title\"><a href=\"http://www.nytimes.com/2014/12/21/magazine/what-happened-when-marissa-mayer-tried-to-be-steve-jobs.html?_r=0\">What Happened When Marissa Mayer Tried to Be Steve Jobs</a><span class=\"comhead\"> (nytimes.com) </span></td></tr><tr><td colspan=\"2\"></td><td class=\"subtext\"><span id=\"score_8762493\">276 points</span> by <a href=\"user?id=r0h1n\">r0h1n</a> 21 hours ago  | <a href=\"item?id=8762493\">257 comments</a></td></tr><tr style=\"height:5px\"></tr><tr><td align=\"right\" valign=\"top\" class=\"title\">13.</td><td><center><a id=\"up_8760829\" href=\"vote?for=8760829&amp;dir=up&amp;whence=%62%65%73%74\"><div class=\"votearrow\" title=\"upvote\"></div></a><span id=\"down_8760829\"></span></center></td><td class=\"title\"><a href=\"http://www.spacex.com/news/2014/12/16/x-marks-spot-falcon-9-attempts-ocean-platform-landing\">Falcon 9 attempts ocean platform landing</a><span class=\"comhead\"> (spacex.com) </span></td></tr><tr><td colspan=\"2\"></td><td class=\"subtext\"><span id=\"score_8760829\">265 points</span> by <a href=\"user?id=butwhy\">butwhy</a> 1 day ago  | <a href=\"item?id=8760829\">99 comments</a></td></tr><tr style=\"height:5px\"></tr><tr><td align=\"right\" valign=\"top\" class=\"title\">14.</td><td><center><a id=\"up_8756157\" href=\"vote?for=8756157&amp;dir=up&amp;whence=%62%65%73%74\"><div class=\"votearrow\" title=\"upvote\"></div></a><span id=\"down_8756157\"></span></center></td><td class=\"title\"><a href=\"http://www.usebox.net/jjm/one-game-a-month/\">Post mortem of my one game a month</a><span class=\"comhead\"> (usebox.net) </span></td></tr><tr><td colspan=\"2\"></td><td class=\"subtext\"><span id=\"score_8756157\">271 points</span> by <a href=\"user?id=reidrac\">reidrac</a> 2 days ago  | <a href=\"item?id=8756157\">64 comments</a></td></tr><tr style=\"height:5px\"></tr><tr><td align=\"right\" valign=\"top\" class=\"title\">15.</td><td><center><a id=\"up_8758571\" href=\"vote?for=8758571&amp;dir=up&amp;whence=%62%65%73%74\"><div class=\"votearrow\" title=\"upvote\"></div></a><span id=\"down_8758571\"></span></center></td><td class=\"title\"><a href=\"http://www.jpl.nasa.gov/news/news.php?feature=4413\">NASA Rover Finds Active and Ancient Organic Chemistry on Mars</a><span class=\"comhead\"> (nasa.gov) </span></td></tr><tr><td colspan=\"2\"></td><td class=\"subtext\"><span id=\"score_8758571\">259 points</span> by <a href=\"user?id=dylnclrk\">dylnclrk</a> 1 day ago  | <a href=\"item?id=8758571\">94 comments</a></td></tr><tr style=\"height:5px\"></tr><tr><td align=\"right\" valign=\"top\" class=\"title\">16.</td><td><center><a id=\"up_8758074\" href=\"vote?for=8758074&amp;dir=up&amp;whence=%62%65%73%74\"><div class=\"votearrow\" title=\"upvote\"></div></a><span id=\"down_8758074\"></span></center></td><td class=\"title\"><a href=\"http://www.magicleap.com/#/blog\">Neal Stephenson Joins Magic Leap</a><span class=\"comhead\"> (magicleap.com) </span></td></tr><tr><td colspan=\"2\"></td><td class=\"subtext\"><span id=\"score_8758074\">249 points</span> by <a href=\"user?id=carloscm\">carloscm</a> 1 day ago  | <a href=\"item?id=8758074\">162 comments</a></td></tr><tr style=\"height:5px\"></tr><tr><td align=\"right\" valign=\"top\" class=\"title\">17.</td><td><center><a id=\"up_8754775\" href=\"vote?for=8754775&amp;dir=up&amp;whence=%62%65%73%74\"><div class=\"votearrow\" title=\"upvote\"></div></a><span id=\"down_8754775\"></span></center></td><td class=\"title\"><a href=\"http://modlabupenn.org/underactuated-rotor/\">Underactuated Rotor for Simple Micro Air Vehicles</a><span class=\"comhead\"> (modlabupenn.org) </span></td></tr><tr><td colspan=\"2\"></td><td class=\"subtext\"><span id=\"score_8754775\">250 points</span> by <a href=\"user?id=command_tab\">command_tab</a> 2 days ago  | <a href=\"item?id=8754775\">81 comments</a></td></tr><tr style=\"height:5px\"></tr><tr><td align=\"right\" valign=\"top\" class=\"title\">18.</td><td><center><a id=\"up_8753174\" href=\"vote?for=8753174&amp;dir=up&amp;whence=%62%65%73%74\"><div class=\"votearrow\" title=\"upvote\"></div></a><span id=\"down_8753174\"></span></center></td><td class=\"title\"><a href=\"http://ergoso.me/computer/science/github/software/evolutionary/couplings/2014/12/10/evsrc-evolutionary-couplings-reveal-poor-software-design.html\">Evolutionary couplings between files reveal poor software design choices</a><span class=\"comhead\"> (ergoso.me) </span></td></tr><tr><td colspan=\"2\"></td><td class=\"subtext\"><span id=\"score_8753174\">242 points</span> by <a href=\"user?id=armish\">armish</a> 2 days ago  | <a href=\"item?id=8753174\">79 comments</a></td></tr><tr style=\"height:5px\"></tr><tr><td align=\"right\" valign=\"top\" class=\"title\">19.</td><td><center><a id=\"up_8764509\" href=\"vote?for=8764509&amp;dir=up&amp;whence=%62%65%73%74\"><div class=\"votearrow\" title=\"upvote\"></div></a><span id=\"down_8764509\"></span></center></td><td class=\"title\"><a href=\"http://www.nytimes.com/2014/12/18/business/theater-chains-decline-to-show-sonys-the-interview-citing-threats-.html?partner=rss&amp;emc=rss\">Theater Chains Decline to Show Sony’s ‘The Interview,’ Citing Threats</a><span class=\"comhead\"> (nytimes.com) </span></td></tr><tr><td colspan=\"2\"></td><td class=\"subtext\"><span id=\"score_8764509\">243 points</span> by <a href=\"user?id=greenburger\">greenburger</a> 14 hours ago  | <a href=\"item?id=8764509\">233 comments</a></td></tr><tr style=\"height:5px\"></tr><tr><td align=\"right\" valign=\"top\" class=\"title\">20.</td><td><center><a id=\"up_8757734\" href=\"vote?for=8757734&amp;dir=up&amp;whence=%62%65%73%74\"><div class=\"votearrow\" title=\"upvote\"></div></a><span id=\"down_8757734\"></span></center></td><td class=\"title\"><a href=\"https://www.djangoproject.com/weblog/2014/dec/15/announcing-django-website-redesign/\">A redesign of the Django websites</a><span class=\"comhead\"> (djangoproject.com) </span></td></tr><tr><td colspan=\"2\"></td><td class=\"subtext\"><span id=\"score_8757734\">257 points</span> by <a href=\"user?id=olasitarska\">olasitarska</a> 1 day ago  | <a href=\"item?id=8757734\">96 comments</a></td></tr><tr style=\"height:5px\"></tr><tr><td align=\"right\" valign=\"top\" class=\"title\">21.</td><td><center><a id=\"up_8761789\" href=\"vote?for=8761789&amp;dir=up&amp;whence=%62%65%73%74\"><div class=\"votearrow\" title=\"upvote\"></div></a><span id=\"down_8761789\"></span></center></td><td class=\"title\"><a href=\"http://homakov.blogspot.com/2014/12/blatant-csrf-in-doorkeeper-most-popular.html\">CSRF in Doorkeeper OAuth2 gem</a><span class=\"comhead\"> (homakov.blogspot.com) </span></td></tr><tr><td colspan=\"2\"></td><td class=\"subtext\"><span id=\"score_8761789\">246 points</span> by <a href=\"user?id=homakov\">homakov</a> 1 day ago  | <a href=\"item?id=8761789\">77 comments</a></td></tr><tr style=\"height:5px\"></tr><tr><td align=\"right\" valign=\"top\" class=\"title\">22.</td><td><center><a id=\"up_8762219\" href=\"vote?for=8762219&amp;dir=up&amp;whence=%62%65%73%74\"><div class=\"votearrow\" title=\"upvote\"></div></a><span id=\"down_8762219\"></span></center></td><td class=\"title\"><a href=\"http://dedis.cs.yale.edu/dissent\">Dissent – Accountable anonymous group communication</a><span class=\"comhead\"> (yale.edu) </span></td></tr><tr><td colspan=\"2\"></td><td class=\"subtext\"><span id=\"score_8762219\">231 points</span> by <a href=\"user?id=geographomics\">geographomics</a> 22 hours ago  | <a href=\"item?id=8762219\">25 comments</a></td></tr><tr style=\"height:5px\"></tr><tr><td align=\"right\" valign=\"top\" class=\"title\">23.</td><td><center><a id=\"up_8756963\" href=\"vote?for=8756963&amp;dir=up&amp;whence=%62%65%73%74\"><div class=\"votearrow\" title=\"upvote\"></div></a><span id=\"down_8756963\"></span></center></td><td class=\"title\"><a href=\"http://observer.com/2014/12/exclusive-new-york-mags-boy-genius-investor-made-it-all-up/\">New York Magazine's Boy Genius Investor Made It All Up</a><span class=\"comhead\"> (observer.com) </span></td></tr><tr><td colspan=\"2\"></td><td class=\"subtext\"><span id=\"score_8756963\">225 points</span> by <a href=\"user?id=ColinWright\">ColinWright</a> 1 day ago  | <a href=\"item?id=8756963\">132 comments</a></td></tr><tr style=\"height:5px\"></tr><tr><td align=\"right\" valign=\"top\" class=\"title\">24.</td><td><center><a id=\"up_8756710\" href=\"vote?for=8756710&amp;dir=up&amp;whence=%62%65%73%74\"><div class=\"votearrow\" title=\"upvote\"></div></a><span id=\"down_8756710\"></span></center></td><td class=\"title\"><a href=\"https://www.eff.org/deeplinks/2014/12/federal-court-agrees-eff-throws-out-six-weeks-warrantless-video-surveillance\">Federal Court Throws Out Six Weeks of Warrantless Video Surveillance</a><span class=\"comhead\"> (eff.org) </span></td></tr><tr><td colspan=\"2\"></td><td class=\"subtext\"><span id=\"score_8756710\">233 points</span> by <a href=\"user?id=pwg\">pwg</a> 2 days ago  | <a href=\"item?id=8756710\">104 comments</a></td></tr><tr style=\"height:5px\"></tr><tr><td align=\"right\" valign=\"top\" class=\"title\">25.</td><td><center><a id=\"up_8757148\" href=\"vote?for=8757148&amp;dir=up&amp;whence=%62%65%73%74\"><div class=\"votearrow\" title=\"upvote\"></div></a><span id=\"down_8757148\"></span></center></td><td class=\"title\"><a href=\"http://www.washingtonpost.com/news/the-intersect/wp/2014/12/15/from-lycos-to-ask-jeeves-to-facebook-tracking-the-20-most-popular-web-sites-every-year-since-1996/\">The most popular web sites every year since 1996</a><span class=\"comhead\"> (washingtonpost.com) </span></td></tr><tr><td colspan=\"2\"></td><td class=\"subtext\"><span id=\"score_8757148\">228 points</span> by <a href=\"user?id=brandonhall\">brandonhall</a> 1 day ago  | <a href=\"item?id=8757148\">102 comments</a></td></tr><tr style=\"height:5px\"></tr><tr><td align=\"right\" valign=\"top\" class=\"title\">26.</td><td><center><a id=\"up_8757630\" href=\"vote?for=8757630&amp;dir=up&amp;whence=%62%65%73%74\"><div class=\"votearrow\" title=\"upvote\"></div></a><span id=\"down_8757630\"></span></center></td><td class=\"title\"><a href=\"https://bitcoin.org/en/developer-guide\">Bitcoin Developer Guide</a><span class=\"comhead\"> (bitcoin.org) </span></td></tr><tr><td colspan=\"2\"></td><td class=\"subtext\"><span id=\"score_8757630\">237 points</span> by <a href=\"user?id=dollaaron\">dollaaron</a> 1 day ago  | <a href=\"item?id=8757630\">71 comments</a></td></tr><tr style=\"height:5px\"></tr><tr><td align=\"right\" valign=\"top\" class=\"title\">27.</td><td><center><a id=\"up_8763942\" href=\"vote?for=8763942&amp;dir=up&amp;whence=%62%65%73%74\"><div class=\"votearrow\" title=\"upvote\"></div></a><span id=\"down_8763942\"></span></center></td><td class=\"title\"><a href=\"http://seclists.org/oss-sec/2014/q4/1052\">Linux kernel: multiple x86_64 vulnerabilities</a><span class=\"comhead\"> (seclists.org) </span></td></tr><tr><td colspan=\"2\"></td><td class=\"subtext\"><span id=\"score_8763942\">224 points</span> by <a href=\"user?id=jgeralnik\">jgeralnik</a> 16 hours ago  | <a href=\"item?id=8763942\">46 comments</a></td></tr><tr style=\"height:5px\"></tr><tr><td align=\"right\" valign=\"top\" class=\"title\">28.</td><td><center><a id=\"up_8758671\" href=\"vote?for=8758671&amp;dir=up&amp;whence=%62%65%73%74\"><div class=\"votearrow\" title=\"upvote\"></div></a><span id=\"down_8758671\"></span></center></td><td class=\"title\"><a href=\"http://blog.garstasio.com/you-dont-need-jquery/\">You Don't Need JQuery</a><span class=\"comhead\"> (garstasio.com) </span></td></tr><tr><td colspan=\"2\"></td><td class=\"subtext\"><span id=\"score_8758671\">224 points</span> by <a href=\"user?id=rnicholus\">rnicholus</a> 1 day ago  | <a href=\"item?id=8758671\">186 comments</a></td></tr><tr style=\"height:5px\"></tr><tr><td align=\"right\" valign=\"top\" class=\"title\">29.</td><td><center><a id=\"up_8751946\" href=\"vote?for=8751946&amp;dir=up&amp;whence=%62%65%73%74\"><div class=\"votearrow\" title=\"upvote\"></div></a><span id=\"down_8751946\"></span></center></td><td class=\"title\"><a href=\"http://www.newyorker.com/magazine/2014/12/22/material-question\">Graphene: Fast, Strong, Cheap, and Impossible to Use</a><span class=\"comhead\"> (newyorker.com) </span></td></tr><tr><td colspan=\"2\"></td><td class=\"subtext\"><span id=\"score_8751946\">212 points</span> by <a href=\"user?id=ezhil\">ezhil</a> 2 days ago  | <a href=\"item?id=8751946\">89 comments</a></td></tr><tr style=\"height:5px\"></tr><tr><td align=\"right\" valign=\"top\" class=\"title\">30.</td><td><center><a id=\"up_8761896\" href=\"vote?for=8761896&amp;dir=up&amp;whence=%62%65%73%74\"><div class=\"votearrow\" title=\"upvote\"></div></a><span id=\"down_8761896\"></span></center></td><td class=\"title\"><a href=\"https://gnupg.org/\">Securing the future of GnuPG</a><span class=\"comhead\"> (gnupg.org) </span></td></tr><tr><td colspan=\"2\"></td><td class=\"subtext\"><span id=\"score_8761896\">201 points</span> by <a href=\"user?id=edwintorok\">edwintorok</a> 1 day ago  | <a href=\"item?id=8761896\">52 comments</a></td></tr><tr style=\"height:5px\"></tr><tr style=\"height:10px\"></tr><tr><td colspan=\"2\"></td><td class=\"title\"><a href=\"best?p=2\" rel=\"nofollow\">More</a></td></tr></table></td></tr><tr><td><img src=\"s.gif\" height=\"10\" width=\"0\"><table width=\"100%\" cellspacing=\"0\" cellpadding=\"1\"><tr><td bgcolor=\"#ff6600\"></td></tr></table><br>\n",
       "<center><span class=\"yclinks\"><a href=\"newsguidelines.html\">Guidelines</a> | <a href=\"newsfaq.html\">FAQ</a> | <a href=\"mailto:hn@ycombinator.com\">Support</a> | <a href=\"lists\">Lists</a> | <a href=\"bookmarklet.html\">Bookmarklet</a> | <a href=\"dmca.html\">DMCA</a> | <a href=\"http://www.ycombinator.com/\">Y Combinator</a> | <a href=\"http://www.ycombinator.com/apply/\">Apply</a> | <a href=\"http://www.ycombinator.com/contact/\">Contact</a></span><br><br>\n",
       "<form method=\"get\" action=\"//hn.algolia.com/\">Search: <input type=\"text\" name=\"q\" value=\"\" size=\"17\"></form><br>\n",
       "</center></td></tr></table></center></body></html>"
      ],
      "text/plain": [
       "<IPython.core.display.HTML object>"
      ]
     },
     "execution_count": 121,
     "metadata": {},
     "output_type": "execute_result"
    }
   ],
   "source": [
    "# from urllib import urlopen\n",
    "# from IPython.display import HTML\n",
    "# h = HTML(r); h"
   ]
  }
 ],
 "metadata": {
  "kernelspec": {
   "display_name": "IPython (Python 2)",
   "name": "python2"
  },
  "language_info": {
   "codemirror_mode": {
    "name": "ipython",
    "version": 2
   },
   "file_extension": ".py",
   "mimetype": "text/x-python",
   "name": "python",
   "nbconvert_exporter": "python",
   "pygments_lexer": "ipython2",
   "version": "2.7.9"
  }
 },
 "nbformat": 4,
 "nbformat_minor": 0
}