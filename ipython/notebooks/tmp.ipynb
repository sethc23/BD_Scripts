{
 "cells": [
  {
   "cell_type": "code",
   "execution_count": null,
   "metadata": {
    "collapsed": true,
    "run_control": {
     "read_only": false
    }
   },
   "outputs": [],
   "source": [
    "THIS_NOTEBOOK = 'tmp'"
   ]
  },
  {
   "cell_type": "code",
   "execution_count": null,
   "metadata": {
    "code_folding": [
     0
    ],
    "collapsed": true,
    "run_control": {
     "read_only": false
    }
   },
   "outputs": [],
   "source": [
    "# Push to Pastebin\n",
    "from pastebin_python import PastebinPython\n",
    "api_dev_key='4f26d1cb7a08f03b02ab24dae43bc431'\n",
    "user_name = 'mech_coder'\n",
    "passw = 'Delivery100%'\n",
    "pb = PastebinPython(api_dev_key=api_dev_key)\n",
    "pb.createAPIUserKey(user_name,passw)\n",
    "\n",
    "\n",
    "pb.createPaste('test', api_paste_name='test', \n",
    "               api_paste_format='', api_paste_private='1', \n",
    "               api_paste_expire_date='10M')"
   ]
  },
  {
   "cell_type": "code",
   "execution_count": null,
   "metadata": {
    "code_folding": [
     0
    ],
    "collapsed": false,
    "run_control": {
     "read_only": false
    }
   },
   "outputs": [],
   "source": [
    "# Compare Files\n",
    "with open('mbp2_a.txt','r') as f: s1=f.readlines()\n",
    "with open('mbp2_a.txt','r') as f: s2=f.readlines()\n",
    "s1a = map(lambda s: s[:s.find('==')].strip(),s1)\n",
    "s1b = map(lambda s: s[:s.find('==')].strip(),s2)\n",
    "for it in s2a:\n",
    "    if s1b.count(it)==0:\n",
    "        print it\n",
    "s2a = map(lambda s: s[:s.find('@')].strip(),s1)\n",
    "s2b = map(lambda s: s[:s.find('@')].strip(),s2)"
   ]
  },
  {
   "cell_type": "code",
   "execution_count": 12,
   "metadata": {
    "code_folding": [
     0
    ],
    "collapsed": false
   },
   "outputs": [],
   "source": [
    "# Github Commits\n",
    "username,pw='blinddiver@gmail.com','ferrarif50'\n",
    "login='https://github.com/session'\n",
    "homepage='https://github.com/sethc23'\n",
    "from mechanize import ParseResponse, urlopen, urljoin\n",
    "response = urlopen(login)\n",
    "forms = ParseResponse(response, backwards_compat=False)\n",
    "form = forms[1]\n",
    "#print form\n",
    "form['login']=username\n",
    "form['password']=pw\n",
    "R=urlopen(form.click())\n",
    "from time import sleep as delay\n",
    "delay(2)\n",
    "z=urlopen('https://github.com/sethc23')\n",
    "delay(2)\n",
    "z=urlopen('https://github.com/sethc23')\n",
    "src=z.read()\n",
    "from bs4 import BeautifulSoup as BS\n",
    "h=BS(src)\n",
    "t=h.findAll('svg',attrs={'class':\"js-calendar-graph-svg\"})[0]\n",
    "x=str(t).replace('\\n','')\n",
    "x=x.replace('1e6823','164656').replace('44a340','22737F').replace('8cc665','2EA1A8').replace('d6e685','3ACFD1')\n",
    "x=x.replace('text-anchor=\"middle\"','fill=\"#1ad680\" text-anchor=\"middle\"')\n",
    "#x=x.replace('style=\"display: none;\" style=\"color: #1ad680;\"','style=\"display: none; color: #1ad680;\"')\n",
    "x=x.replace('class=\"month\"','fill=\"#1ad680\"')\n",
    "with open('tmp.txt','w') as f: f.write(x)\n",
    "!echo `cat tmp.txt` | cairosvg - -f png -o feeds/git_commits.png"
   ]
  }
 ],
 "metadata": {
  "kernelspec": {
   "display_name": "IPython (Python 2)",
   "name": "python2"
  },
  "language_info": {
   "codemirror_mode": {
    "name": "ipython",
    "version": 2
   },
   "file_extension": ".py",
   "mimetype": "text/x-python",
   "name": "python",
   "nbconvert_exporter": "python",
   "pygments_lexer": "ipython2",
   "version": "2.7.9"
  }
 },
 "nbformat": 4,
 "nbformat_minor": 0
}