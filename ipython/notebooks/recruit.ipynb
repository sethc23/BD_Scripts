{
 "metadata": {
  "name": "",
  "signature": "sha256:bb9421d6ca2380d9c910820adb8eea59a2f749d8f782f4e118e62599d92207b1"
 },
 "nbformat": 3,
 "nbformat_minor": 0,
 "worksheets": [
  {
   "cells": [
    {
     "cell_type": "code",
     "collapsed": true,
     "input": [
      "\n",
      "1. python/ipython developer familiar with at least one module in the group of pandas, \n",
      "geopandas, cython \n",
      "\n",
      "2. an nginx,lua,postgres developer\n",
      "\n",
      "3. a webpage scraper preferable operating within current library of python, mechanize, selenium, bs4, etc...\n",
      "\n",
      "\n"
     ],
     "language": "python",
     "metadata": {},
     "outputs": []
    }
   ],
   "metadata": {}
  }
 ]
}