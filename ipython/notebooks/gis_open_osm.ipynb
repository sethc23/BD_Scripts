{
 "metadata": {
  "name": "",
  "signature": "sha256:821d959eba45abd8167bf30d8c3e4c69cd770024ae71087569b90a28b67bb339"
 },
 "nbformat": 3,
 "nbformat_minor": 0,
 "worksheets": [
  {
   "cells": [
    {
     "cell_type": "markdown",
     "metadata": {},
     "source": [
      "##Open OpenStreetMap Source (*.osm):"
     ]
    },
    {
     "cell_type": "code",
     "collapsed": false,
     "input": [
      "import ogr\n",
      "driver = ogr.GetDriverByName('OSM')\n",
      "srcFile = '/Users/admin/Projects/GIS/NYC_gov_data/lion/lion_wgs84.osm'\n",
      "datasource = driver.Open(srcFile)\n",
      "osm_layer = datasource.GetLayer()\n",
      "osm_feature = layer.GetFeature(0)"
     ],
     "language": "python",
     "metadata": {},
     "outputs": []
    },
    {
     "cell_type": "code",
     "collapsed": false,
     "input": [
      "a=osm_feature.keys()\n",
      "for i in range(0,len(a)):\n",
      "    print '\\t'+str(a[i])"
     ],
     "language": "python",
     "metadata": {},
     "outputs": []
    },
    {
     "cell_type": "markdown",
     "metadata": {},
     "source": [
      "##Open Shapefile Source:"
     ]
    },
    {
     "cell_type": "code",
     "collapsed": false,
     "input": [
      "import os.path  \n",
      "import osgeo.ogr  \n",
      "\n",
      "# srcFile = '/Users/admin/Projects/GIS/NYC_gov_data/Manhattan/MNMapPLUTO_wgs84.shp'\n",
      "srcFile = '/Users/admin/Projects/GIS/NYC_gov_data/lion/lion_wgs84.shp'\n",
      "shapefile = osgeo.ogr.Open(srcFile)  \n",
      "layer = shapefile.GetLayer(0)\n",
      "feature = layer.GetFeature(0)"
     ],
     "language": "python",
     "metadata": {},
     "outputs": []
    },
    {
     "cell_type": "code",
     "collapsed": false,
     "input": [
      "# To get CRS:\n",
      "# print layer.GetSpatialRef()"
     ],
     "language": "python",
     "metadata": {},
     "outputs": []
    },
    {
     "cell_type": "code",
     "collapsed": false,
     "input": [
      "# To get extent:\n",
      "# layer.GetExtent()"
     ],
     "language": "python",
     "metadata": {},
     "outputs": []
    },
    {
     "cell_type": "code",
     "collapsed": false,
     "input": [
      "# To check if there is a geometry column (for routing)\n",
      "# layer.GetGeometryColumn()"
     ],
     "language": "python",
     "metadata": {},
     "outputs": []
    },
    {
     "cell_type": "code",
     "collapsed": false,
     "input": [
      "# To get list of all features/columns:\n",
      "# a=feature.keys()\n",
      "# for i in range(0,len(a)):\n",
      "#     print '\\t'+str(a[i])\n",
      "\n",
      "# b=feature.items()\n",
      "# for k,v in b.iteritems():\n",
      "#     print '\\t'+str(k)+'\\t'+str(v)\n",
      "\n",
      "# print layer.GetFeatureCount()\n",
      "# print feature.ExportToJson()\n",
      "\n",
      "# print feature.GetField(\"NAME\").decode(\"utf-8\") "
     ],
     "language": "python",
     "metadata": {},
     "outputs": []
    },
    {
     "cell_type": "code",
     "collapsed": false,
     "input": [
      "# for i in range(layer.GetFeatureCount()):  \n",
      "#     feature = layer.GetFeature(i)  \n",
      "#     name = feature.GetField(\"NAME\").decode(\"utf-8\")  \n",
      "#     wkt = feature.GetGeometryRef().ExportToWkt()  \n",
      "#     break\n",
      "#     cursor.execute(\"INSERT INTO countries (name,outline) \" +\"VALUES (%s, ST_GeometryFromText(%s, \" +\"4326))\", (name.encode(\"utf8\"), wkt))  \n",
      "\n",
      "# connection.commit()"
     ],
     "language": "python",
     "metadata": {},
     "outputs": []
    }
   ],
   "metadata": {}
  }
 ]
}