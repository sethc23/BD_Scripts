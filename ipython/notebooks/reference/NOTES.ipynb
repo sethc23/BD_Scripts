{
 "cells": [
  {
   "cell_type": "markdown",
   "metadata": {},
   "source": [
    "##Things To Fix:\n",
    "1. ibk\n",
    "2. -- convert ipynb\n",
    "3. feeds\n",
    "4. rsync\n",
    "5. ms1 recovery\n",
    "6. -- disable TOC\n",
    "7. add config files re: OSX syslog"
   ]
  },
  {
   "cell_type": "markdown",
   "metadata": {},
   "source": [
    "##Methods of Transmitting Info to Syslog-ng/ElasticSearch:\n",
    "\n",
    "####Websockets:\n",
    "\n",
    "\thttp://nginx.com/blog/websocket-nginx/\n",
    "\thttps://github.com/flatiron/winston\n",
    "\thttps://sourcegraph.com/github.com/jrief/django-websocket-redis\n",
    "\thttps://github.com/jrief/django-websocket-redis/blob/master/docs/running.rst\n",
    "\thttp://nginx.com/blog/nginx-nodejs-websockets-socketio/\n",
    "\n",
    "####Nginx+Redis:\n",
    "\n",
    "\thttp://wiki.nginx.org/HttpRedis2Module#Redis_Publish.2FSubscribe_Support\n",
    "\thttp://redis.io/topics/protocol\n",
    "\thttps://github.com/openresty/lua-resty-redis/tree/master/t\n",
    "\thttps://github.com/sksamuel/elasticsearch-river-redis/blob/master/README.md\n",
    "\thttp://redis.io/topics/security\n",
    "\n",
    "####Syslog-ng, riemann, collectd, elasticsearch:\n",
    "\n",
    "\thttp://devops.com/features/guide-modern-monitoring-alerting/\n",
    "\t\n",
    "\t\tsudo apt-get install -y collectd-dev libcollectdclient-dev\n",
    "\t\tsudo apt-get install -y syslog-ng-mod-trigger syslog-ng-mod-sql syslog-ng-mod-rss syslog-ng-mod-riemann\n",
    "\t\n",
    "\thttp://cis.sac.alamo.edu/~mmayfield/main.php?page=syslog#loghost\n",
    "\n",
    "####uWSGI\n",
    "\n",
    "\thttp://uwsgi-docs.readthedocs.org/en/latest/tutorials/GraphiteAndMetrics.html\n",
    "\n",
    "##syslog-ng config:\n",
    "\n",
    "\thttp://www.linuxgeek.net/apache-with-syslog-ng/\n",
    "\n",
    "##Management:\n",
    "\n",
    "\thttp://code.seas.harvard.edu/puppet/puppet/blobs/195410833ad2f559cea4376fb8517c252b516f95/modules/syslog-server/manifests/config.pp\n",
    "\n",
    "### High Availability Servers:\n",
    "\n",
    "\thttps://aws.amazon.com/articles/2127188135977316"
   ]
  },
  {
   "cell_type": "markdown",
   "metadata": {},
   "source": [
    "### Send to Pastebin\n",
    "\n",
    "- SLca\n",
    "- SLcs\n",
    "- syslog -s -l error -k Message \"Google\"\n",
    "- syslog -s -l error -k Message \"test\"\n",
    "\t"
   ]
  }
 ],
 "metadata": {
  "kernelspec": {
   "display_name": "Python 2",
   "name": "python2"
  },
  "language_info": {
   "codemirror_mode": {
    "name": "ipython",
    "version": 2
   },
   "file_extension": ".py",
   "mimetype": "text/x-python",
   "name": "python",
   "nbconvert_exporter": "python",
   "pygments_lexer": "ipython2",
   "version": "2.7.9"
  }
 },
 "nbformat": 4,
 "nbformat_minor": 0
}