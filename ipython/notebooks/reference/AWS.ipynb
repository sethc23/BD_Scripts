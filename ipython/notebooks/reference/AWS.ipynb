{
 "cells": [
  {
   "cell_type": "markdown",
   "metadata": {},
   "source": [
    "# AWS:\n",
    "\n",
    "Rebooting/Starting/Stopping:\n",
    "\n",
    "\thttp://alestic.com/2011/09/ec2-reboot-stop-start\n",
    "\n",
    "\taws ec2 run-instances --image-id ami-b66ed3de --instance-type m3.medium --associate-public-ip-address\n",
    "\taws ec2 start-instances --instance-id \"i-8206d068\" --associate-public-ip-address true\n",
    "\taws ec2 describe-instances --output 'json' --color 'on'\n",
    "\t\n",
    "\taws ec2 describe-images --dry-run --image-id ami-b66ed3de --filters Name\n",
    "\t\n",
    "\t\t--endpoint-url \n",
    "\t\n",
    "\t\n",
    "\t\n",
    "\taws ec2 stop-instances --instance-ids \"i-8206d068\"\n",
    "\n",
    "\taws ec2 run-instances ami-b66ed3de --count 1 -t m3.medium -k my-key-pair --security-groups grp1\n",
    "\t\n",
    "\t\n",
    "\taws ec2 terminate-instances --instance-ids i-8206d068\n",
    "\t\n",
    "\taws ec2 run-instances --image-id ami-b66ed3de --count 1 --key-name seth\n",
    "\t\n",
    "\taws ec2 run-instances --user-data file:///full/ path/to/my_script\n",
    "\t\n",
    "\taws ec2 start-instances --instance-ids i-8206d068\n",
    "\tec2start instance-ids i-8206d068\n",
    "\t\n",
    "\tUS East (N. Virginia)\tus-east-1\tec2.us-east-1.amazonaws.com\tHTTP and HTTPS\n",
    "\t\n",
    "\t\n",
    "\t\n",
    "\t--associate-public-ip-address\n",
    "\t\n",
    "\taws ec2 describe-instance-status\n",
    "\t\n",
    "\taws ec2 describe-addresses\n",
    "\tADDRESSES\teipalloc-c4b606a1\teipassoc-ad5021c9\tvpc\ti-8206d068\teni-792b600f\t225385062148\t172.31.24.62\t54.173.180.167\n",
    "\t\n",
    "\t 1665  16/12/14 12:55:51  aws ec2 describe-addresses\n",
    "\t 1666  16/12/14 12:56:10  aws ec2 describe-network-interface-attribute\n",
    "\t 1667  16/12/14 12:57:34  aws ec2 describe-customer-gateways\n",
    "\t\n",
    "\t 1671  16/12/14 13:00:11  aws ec2 describe-network-acls\n",
    "\t 1672  16/12/14 13:01:12  aws ec2 describe-route-tables\n",
    "\t 1673  16/12/14 13:02:02  aws ec2 describe-vpn-connections\n",
    "\t 1674  16/12/14 13:02:22  aws ec2 describe-vpcs"
   ]
  }
 ],
 "metadata": {
  "kernelspec": {
   "display_name": "Python 2",
   "name": "python2"
  },
  "language_info": {
   "codemirror_mode": {
    "name": "ipython",
    "version": 2
   },
   "file_extension": ".py",
   "mimetype": "text/x-python",
   "name": "python",
   "nbconvert_exporter": "python",
   "pygments_lexer": "ipython2",
   "version": "2.7.9"
  }
 },
 "nbformat": 4,
 "nbformat_minor": 0
}