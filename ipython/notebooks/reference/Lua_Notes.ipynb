{
 "cells": [
  {
   "cell_type": "markdown",
   "metadata": {
    "run_control": {
     "read_only": false
    }
   },
   "source": [
    "##Lua Notes\n",
    "\n",
    "####String Concatenation:\n",
    "\n",
    "\tngx.var.req_info = string.format(\"\\\\\"querystring\\\\\":\\\\\"%s\\\\\"\",ngx.var.args)\n",
    "\tngx.var.req_info = ngx.var.req_info..string.format(\",\\\\\"method\\\\\":\\\\\"%s\\\\\"\",ngx.var.request_method)\n",
    "\tngx.var.req_info = ngx.var.req_info..string.format(\",\\\\\"body\\\\\":\\\\\"%s\\\\\"\",ngx.var.request_body)\n",
    "\tngx.var.req_info = ngx.var.req_info..string.format(\",\\\\\"content_length\\\\\":\\\\\"%s\\\\\"\",ngx.var.content_length)\n",
    "\t\n",
    "####Equivalent to:\t\t[ except that nil values are excluded ]\n",
    "\n",
    "\tlocal cjson = require \"cjson\"\n",
    "\tr = {querystring=ngx.var.args,\n",
    "         method=ngx.var.request_method,\n",
    "         body=ngx.var.request_body,\n",
    "         content_length=ngx.var.content_length}\n",
    "    json_text = cjson.encode(r)"
   ]
  }
 ],
 "metadata": {
  "kernelspec": {
   "display_name": "Python 2",
   "name": "python2"
  },
  "language_info": {
   "codemirror_mode": {
    "name": "ipython",
    "version": 2
   },
   "file_extension": ".py",
   "mimetype": "text/x-python",
   "name": "python",
   "nbconvert_exporter": "python",
   "pygments_lexer": "ipython2",
   "version": "2.7.9"
  }
 },
 "nbformat": 4,
 "nbformat_minor": 0
}