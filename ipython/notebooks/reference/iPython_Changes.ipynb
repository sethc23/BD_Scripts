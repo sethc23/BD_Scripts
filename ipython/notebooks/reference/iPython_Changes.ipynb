{
 "cells": [
  {
   "cell_type": "markdown",
   "metadata": {},
   "source": [
    "### HTML Changes\n",
    "\n",
    "    notebook-container add style=\"width: 100%;\" --> IPython/html/static/notebook/js/notebook.js\n",
    "    header-container add style=\"display: block; width: 100%;\" --> IPython/html/templates/page.html\n",
    "    menubar-container add style=\"display: block; width: 100%;\" --> IPython/html/templates/notebook.html"
   ]
  },
  {
   "cell_type": "code",
   "execution_count": null,
   "metadata": {
    "collapsed": true
   },
   "outputs": [],
   "source": [
    "%alias find_in_and_what find %s -type f | xargs grep -iE \"%s\""
   ]
  },
  {
   "cell_type": "code",
   "execution_count": null,
   "metadata": {
    "collapsed": true
   },
   "outputs": [],
   "source": [
    "base_dir = '../../../../ipython/ipython/'\n",
    "a='IPython/html/static/notebook/js/notebook.js'\n",
    "b='IPython/html/templates/page.html'\n",
    "c='IPython/html/templates/notebook.html'\n",
    "\n",
    "a_old='.attr(\"id\", \"notebook-container\")'\n",
    "a_new='.attr(\"id\", \"notebook-container\").attr(\"style\", \"width: 100%;\")'"
   ]
  }
 ],
 "metadata": {
  "kernelspec": {
   "display_name": "Python 2",
   "name": "python2"
  },
  "language_info": {
   "codemirror_mode": {
    "name": "ipython",
    "version": 2
   },
   "file_extension": ".py",
   "mimetype": "text/x-python",
   "name": "python",
   "nbconvert_exporter": "python",
   "pygments_lexer": "ipython2",
   "version": "2.7.9"
  }
 },
 "nbformat": 4,
 "nbformat_minor": 0
}