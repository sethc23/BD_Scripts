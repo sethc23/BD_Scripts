{
 "cells": [
  {
   "cell_type": "code",
   "execution_count": null,
   "metadata": {
    "code_folding": [
     0
    ],
    "collapsed": false,
    "run_control": {
     "read_only": false
    }
   },
   "outputs": [],
   "source": [
    "#### Created new syslogd launch config:\n",
    "\n",
    "Convert Orig\n",
    "\n",
    "\tsudo plutil -convert xml1 -o ~/Desktop/tmp.xml -r /System/Library/LaunchDaemons/com.apple.syslogd2.plist\n",
    "\tsudo chown admin:staff ~/Desktop/tmp.xml && sudo chmod 777 ~/Desktop/tmp.xml\n",
    "\t\n",
    "\n",
    "Made changes:\n",
    "\n",
    "\"ASL_DISABLE\" : \"1\" to \"ASL_DISABLE\" : \"0\"\n",
    "\n",
    ". From This:\n",
    "\n",
    "\t\"Sockets\" : {\n",
    "\t    \"BSDSystemLogger\" : {\n",
    "\t      \"SockPathName\" : \"\\/var\\/run\\/syslog\",\n",
    "\t      \"SockType\" : \"dgram\",\n",
    "\t      \"SockPathMode\" : 438\n",
    "\t    }\n",
    "\t  }\n",
    "\n",
    ". To This\n",
    "\n",
    "\t\"Sockets\" : {\n",
    "\t    \"BSDSystemLogger\" : {\n",
    "\t      \"SockPathName\" : \"\\/var\\/run\\/syslog\",\n",
    "\t      \"SockType\" : \"dgram\",\n",
    "\t      \"SockPathMode\" : 438\n",
    "\t    },\n",
    "\t    \"AppleSystemLogger\" : {\n",
    "\t      \"SockPathName\" : \"\\/var\\/run\\/asl_input\",\n",
    "\t      \"SockPathMode\" : 438\n",
    "\t    }\n",
    "\t  }\t\n",
    "\n",
    "Make new to LaunchDaemon:\n",
    "\t\n",
    "\tsudo chown root:staff ~/Desktop/tmp.xml && sudo chmod 644 ~/Desktop/tmp.xml\n",
    "\tsudo plutil -convert binary1 -o /System/Library/LaunchDaemons/com.apple.syslogd3.plist ~/Desktop/tmp.xml\n",
    "\n",
    "Load it:\tsudo launchctl load -w /System/Library/LaunchDaemons/com.apple.syslogd2.plist\n",
    "\n",
    "Find new socket here: \t/var/run/asl_input"
   ]
  },
  {
   "cell_type": "code",
   "execution_count": 5,
   "metadata": {
    "collapsed": false,
    "run_control": {
     "read_only": false
    }
   },
   "outputs": [
    {
     "data": {
      "text/html": [
       "./files/osx_changes/<br>\n",
       "&nbsp;&nbsp;<a href='./files/osx_changes/._tmp.xml' target='_blank'>._tmp.xml</a><br>\n",
       "&nbsp;&nbsp;<a href='./files/osx_changes/related_daemon.pdf' target='_blank'>related_daemon.pdf</a><br>\n",
       "&nbsp;&nbsp;<a href='./files/osx_changes/socket_keys.pdf' target='_blank'>socket_keys.pdf</a><br>\n",
       "&nbsp;&nbsp;<a href='./files/osx_changes/tmp.xml' target='_blank'>tmp.xml</a><br>"
      ],
      "text/plain": [
       "./files/osx_changes/\n",
       "  ._tmp.xml\n",
       "  related_daemon.pdf\n",
       "  socket_keys.pdf\n",
       "  tmp.xml"
      ]
     },
     "execution_count": 5,
     "metadata": {},
     "output_type": "execute_result"
    }
   ],
   "source": [
    "from IPython.display import FileLinks\n",
    "FileLinks('./files/osx_changes')"
   ]
  }
 ],
 "metadata": {
  "kernelspec": {
   "display_name": "IPython (Python 2)",
   "name": "python2"
  },
  "language_info": {
   "codemirror_mode": {
    "name": "ipython",
    "version": 2
   },
   "file_extension": ".py",
   "mimetype": "text/x-python",
   "name": "python",
   "nbconvert_exporter": "python",
   "pygments_lexer": "ipython2",
   "version": "2.7.9"
  }
 },
 "nbformat": 4,
 "nbformat_minor": 0
}