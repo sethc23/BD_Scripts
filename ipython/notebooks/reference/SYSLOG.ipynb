{
 "cells": [
  {
   "cell_type": "code",
   "execution_count": null,
   "metadata": {
    "collapsed": true
   },
   "outputs": [],
   "source": []
  },
  {
   "cell_type": "markdown",
   "metadata": {},
   "source": [
    "DESTINATION:\n",
    "\n",
    "log-fifo-size()\t\t\tper D, number of msgs stored in overflow queue (in addition to standard 64 msgs in output queue) \n",
    "\n",
    "log-fifo-size > ( log-iw-size of every source logging to that destination )\n",
    "\n",
    "SOURCE: \n",
    "log-fetch-limit()\t\tnumber of msgs read during a poll loop\n",
    "log-iw-size()           number of msgs syslog can accept from source (default: 1000)\n",
    "This control window (\"CW\") having size log-iw-size, as msgs arrive, CW decreases in size.  as msgs are sent, CW increases ]\n",
    "\n",
    "a source may have multiple connections, i.e., TCP,\n",
    "and a system may neccesitate using `max-connections()`.\n",
    "In such instance, still only one CW is alloted per source.\n",
    "\n",
    "Thus: \t\n",
    "    \n",
    "    log-fifo-size > (   log-fetch-limit * max-connections )\n",
    "    log-fifo-size >     log-iw-size\n",
    "\tDESTINATION\t\t\tSOURCE\n",
    "\n",
    "\n",
    "log-iw-size()\n",
    "\n",
    "DESTINATIONS:\n",
    "\n",
    "    add flags(flow_control)"
   ]
  }
 ],
 "metadata": {
  "kernelspec": {
   "display_name": "Python 2",
   "name": "python2"
  },
  "language_info": {
   "codemirror_mode": {
    "name": "ipython",
    "version": 2
   },
   "file_extension": ".py",
   "mimetype": "text/x-python",
   "name": "python",
   "nbconvert_exporter": "python",
   "pygments_lexer": "ipython2",
   "version": "2.7.9"
  }
 },
 "nbformat": 4,
 "nbformat_minor": 0
}