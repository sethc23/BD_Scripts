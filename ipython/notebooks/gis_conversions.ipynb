{
 "metadata": {
  "name": "",
  "signature": "sha256:6083a737b8e4fcc1ef93b6ea7203060af2bb4712c5158202539d34a4a6f87618"
 },
 "nbformat": 3,
 "nbformat_minor": 0,
 "worksheets": [
  {
   "cells": [
    {
     "cell_type": "markdown",
     "metadata": {},
     "source": [
      "##Get Coordinates Between Diff CRS Geometries:"
     ]
    },
    {
     "cell_type": "code",
     "collapsed": false,
     "input": [
      "from pyproj import Proj, transform\n",
      "\n",
      "from urllib2 import urlopen\n",
      "def get_epsg(check_code):\n",
      "    x= 'http://www.spatialreference.org/ref/esri/%s/proj4/' % check_code\n",
      "    return urlopen(x).read()\n",
      "# inProj = Proj('+proj=lcc +lat_1=40.66666666666666 +lat_2=41.03333333333333 +lat_0=40.16666666666666 +lon_0=-74 +x_0=300000 +y_0=0 +datum=NAD83 +units=us-ft +no_defs')\n",
      "\n",
      "# Converting from lion to WGS 84\n",
      "# inProj = Proj(get_epsg('102718'))\n",
      "# outProj = Proj(init='epsg:4326')\n",
      "# x1,y1 = 982640,208523\n",
      "\n",
      "# Converting from WGS84 to lion\n",
      "inProj = Proj(init='epsg:4326')\n",
      "outProj = Proj(get_epsg('102718'))\n",
      "x1,y1 = -73.98468,40.74531\n",
      "\n",
      "x2,y2 = transform(inProj,outProj,x1,y1)\n",
      "print x2,y2"
     ],
     "language": "python",
     "metadata": {},
     "outputs": []
    }
   ],
   "metadata": {}
  }
 ]
}