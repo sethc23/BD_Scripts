{
 "metadata": {
  "name": "",
  "signature": "sha256:0fef2c1e58b65cf9f7cbff6ce426fa1d50c136b15c7552be04637393e8ba9e2a"
 },
 "nbformat": 3,
 "nbformat_minor": 0,
 "worksheets": [
  {
   "cells": [
    {
     "cell_type": "code",
     "collapsed": false,
     "input": [
      "from qgis.core import *\n",
      "import qgis.utils\n",
      "\n",
      "print \"helo\" # console output: helo\n",
      "\n",
      "QgsApplication.setPrefixPath(\"/Applications/MacPorts/QGIS.app/\", True)\n",
      "QgsApplication.initQgis()"
     ],
     "language": "python",
     "metadata": {},
     "outputs": [
      {
       "output_type": "stream",
       "stream": "stdout",
       "text": [
        "helo\n"
       ]
      }
     ],
     "prompt_number": 9
    },
    {
     "cell_type": "code",
     "collapsed": false,
     "input": [
      "print qgis.utils.iface.legendInterface().layers() "
     ],
     "language": "python",
     "metadata": {},
     "outputs": [
      {
       "ename": "AttributeError",
       "evalue": "'NoneType' object has no attribute 'legendInterface'",
       "output_type": "pyerr",
       "traceback": [
        "\u001b[0;31m---------------------------------------------------------------------------\u001b[0m\n\u001b[0;31mAttributeError\u001b[0m                            Traceback (most recent call last)",
        "\u001b[0;32m<ipython-input-10-97ba408d6608>\u001b[0m in \u001b[0;36m<module>\u001b[0;34m()\u001b[0m\n\u001b[0;32m----> 1\u001b[0;31m \u001b[0;32mprint\u001b[0m \u001b[0mqgis\u001b[0m\u001b[0;34m.\u001b[0m\u001b[0mutils\u001b[0m\u001b[0;34m.\u001b[0m\u001b[0miface\u001b[0m\u001b[0;34m.\u001b[0m\u001b[0mlegendInterface\u001b[0m\u001b[0;34m(\u001b[0m\u001b[0;34m)\u001b[0m\u001b[0;34m.\u001b[0m\u001b[0mlayers\u001b[0m\u001b[0;34m(\u001b[0m\u001b[0;34m)\u001b[0m\u001b[0;34m\u001b[0m\u001b[0m\n\u001b[0m",
        "\u001b[0;31mAttributeError\u001b[0m: 'NoneType' object has no attribute 'legendInterface'"
       ]
      }
     ],
     "prompt_number": 10
    },
    {
     "cell_type": "code",
     "collapsed": false,
     "input": [
      "uri = QgsDataSourceURI()\n",
      "uri.setConnection(\"localhost\", \n",
      "                  \"5432\", \n",
      "                  \"routing\", \n",
      "                  \"postgres\",'')\n",
      "uri.setDataSource(\"public\", \"ways\", \"the_geom\")\n",
      "vlayer = QgsVectorLayer(uri.uri(), \"layer_name_you_like\", \"postgres\")\n",
      "print qgis.utils.iface.legendInterface().layers() "
     ],
     "language": "python",
     "metadata": {},
     "outputs": [],
     "prompt_number": 11
    },
    {
     "cell_type": "code",
     "collapsed": false,
     "input": [
      "from PyQt4.QtCore import *\n",
      "from PyQt4.QtGui import *\n",
      "lg = qgis.utils.iface.mainWindow().findChild(QTreeWidget, 'theMapLegend')\n",
      "lg.selectionModel().clear()  # clear just selection\n",
      "lg.setCurrentItem(None)  # clear selection and active layer"
     ],
     "language": "python",
     "metadata": {},
     "outputs": []
    },
    {
     "cell_type": "code",
     "collapsed": false,
     "input": [],
     "language": "python",
     "metadata": {},
     "outputs": [],
     "prompt_number": 5
    },
    {
     "cell_type": "code",
     "collapsed": false,
     "input": [
      "QgsApplication.exitQgis()"
     ],
     "language": "python",
     "metadata": {},
     "outputs": []
    }
   ],
   "metadata": {}
  }
 ]
}