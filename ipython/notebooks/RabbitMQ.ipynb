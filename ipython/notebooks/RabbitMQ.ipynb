{
 "cells": [
  {
   "cell_type": "code",
   "execution_count": null,
   "metadata": {
    "collapsed": true
   },
   "outputs": [],
   "source": [
    "THIS_NOTEBOOK = RabbitMQ"
   ]
  },
  {
   "cell_type": "code",
   "execution_count": null,
   "metadata": {
    "collapsed": true
   },
   "outputs": [],
   "source": [
    "# import amqp"
   ]
  },
  {
   "cell_type": "code",
   "execution_count": 3,
   "metadata": {
    "code_folding": [],
    "collapsed": false
   },
   "outputs": [],
   "source": [
    "## Open Blocking Connection:\n",
    "import pika\n",
    "\n",
    "\n",
    "def open_connection():\n",
    "    creds = pika.credentials.PlainCredentials(username='ub2',password='mq_money')\n",
    "    connection = pika.BlockingConnection(pika.ConnectionParameters(host='localhost',port=5672,\n",
    "                                                               virtual_host=None,credentials=creds))\n",
    "    channel = connection.channel()\n",
    "    return channel"
   ]
  },
  {
   "cell_type": "code",
   "execution_count": 24,
   "metadata": {
    "collapsed": false
   },
   "outputs": [],
   "source": [
    "ch = open_connection()\n",
    "ch.basic_publish(exchange='celery',\n",
    "                 routing_key='celery',\n",
    "                 body=\"{'task':'tasks.update_master_repo','args':['/home/jail/home/serv/system_config/SERVER2/.git']}\")\n",
    "ch.close()"
   ]
  },
  {
   "cell_type": "code",
   "execution_count": 14,
   "metadata": {
    "collapsed": true
   },
   "outputs": [],
   "source": [
    "ch.basic_publish?"
   ]
  },
  {
   "cell_type": "code",
   "execution_count": 58,
   "metadata": {
    "code_folding": [],
    "collapsed": false
   },
   "outputs": [],
   "source": [
    "## Delete Exchanges/Queues:\n",
    "\n",
    "ch = open_connection()\n",
    "ch.exchange_delete(exchange='ngx')\n",
    "ch.queue_delete(queue='ngx')\n",
    "ch.queue_delete(queue='celery')\n",
    "ch.close()"
   ]
  },
  {
   "cell_type": "markdown",
   "metadata": {},
   "source": [
    "[TUTORIAL 1](https://www.rabbitmq.com/tutorials/tutorial-one-python.html)"
   ]
  },
  {
   "cell_type": "code",
   "execution_count": null,
   "metadata": {
    "code_folding": [
     0
    ],
    "collapsed": false
   },
   "outputs": [],
   "source": [
    "# SENDING:\n",
    "\n",
    "channel = open_connection()\n",
    "\n",
    "# create queue\n",
    "channel.queue_declare(queue='hello')\n",
    "\n",
    "# need to push message through exchange to get to queue\n",
    "# this exchange is interesting:  queue name == routing name\n",
    "channel.basic_publish(exchange='',\n",
    "                      routing_key='hello',\n",
    "                      body='Hello World!')\n",
    "print \" [x] Sent 'Hello World!'\"\n",
    "connection.close()"
   ]
  },
  {
   "cell_type": "code",
   "execution_count": null,
   "metadata": {
    "code_folding": [
     0
    ],
    "collapsed": false
   },
   "outputs": [],
   "source": [
    "# RECEIVING:\n",
    "\n",
    "channel = open_connection()\n",
    "\n",
    "# doesn't matter if declared multiple times\n",
    "channel.queue_declare(queue='hello')\n",
    "def callback(ch, method, properties, body):\n",
    "    print \" [x] Received %r\" % (body,)\n",
    "\n",
    "# queue must exist.. any check avail.?\n",
    "channel.basic_consume(callback,\n",
    "                      queue='hello',\n",
    "                      no_ack=True)\n",
    "\n",
    "# never ending consumption\n",
    "print ' [*] Waiting for messages. To exit press CTRL+C'\n",
    "channel.start_consuming()"
   ]
  },
  {
   "cell_type": "markdown",
   "metadata": {},
   "source": [
    "[TUTORIAL 3 -- Publish/Subscribe](https://www.rabbitmq.com/tutorials/tutorial-three-python.html)"
   ]
  },
  {
   "cell_type": "code",
   "execution_count": 59,
   "metadata": {
    "code_folding": [
     0
    ],
    "collapsed": false
   },
   "outputs": [],
   "source": [
    "# GOAL: push messages from ngx to celery\n",
    "\"\"\"\n",
    "    1. create exchange (\"ngx\") to publish ngx messages\n",
    "    2. bind exchange (\"ngx\") to queue (\"celery\")\n",
    "    3. bind exchange (\"celery\",existing) to queue (\"celery\")\n",
    "\"\"\"\n",
    "\n",
    "# PUBLISH LOGS (from nginx)\n",
    "\n",
    "channel = open_connection()\n",
    "channel.exchange_declare(exchange='ngx',\n",
    "                         exchange_type='direct',\n",
    "                         durable=True)\n",
    "\n",
    "channel.close()\n",
    "\n",
    "# RECEIVE LOGS (@ celery)\n",
    "\n",
    "queue_name='celery'\n",
    "\n",
    "channel = open_connection()\n",
    "result = channel.queue_declare(queue=queue_name,durable=True)\n",
    "channel.queue_bind(\n",
    "    queue=queue_name,\n",
    "    exchange='ngx',\n",
    "    routing_key='ngx_celery')\n",
    "channel.close()\n",
    "\n",
    "channel = open_connection()\n",
    "result = channel.queue_declare(queue=queue_name,passive=True,durable=True)\n",
    "channel.queue_bind(\n",
    "    queue=queue_name,\n",
    "    exchange='celery',\n",
    "    routing_key='ngx_celery')\n",
    "channel.close()"
   ]
  },
  {
   "cell_type": "code",
   "execution_count": 38,
   "metadata": {
    "collapsed": true
   },
   "outputs": [],
   "source": [
    "channel.queue_bind?"
   ]
  },
  {
   "cell_type": "markdown",
   "metadata": {},
   "source": [
    "[TUTORIAL 5 -- Using Topic Exchanges](https://www.rabbitmq.com/tutorials/tutorial-five-python.html)\n",
    "  \n",
    " ---- [Useful for Firehose Debugging/Tracing](https://www.rabbitmq.com/firehose.html)"
   ]
  },
  {
   "cell_type": "code",
   "execution_count": null,
   "metadata": {
    "code_folding": [
     0
    ],
    "collapsed": true
   },
   "outputs": [],
   "source": [
    "# PUBLISH\n",
    "\n",
    "channel = open_connection()\n",
    "\n",
    "channel.exchange_declare(exchange='topic_logs',\n",
    "                         type='topic')\n",
    "\n",
    "channel.basic_publish(exchange='topic_logs',\n",
    "                      routing_key=routing_key,\n",
    "                      body=message)\n",
    "print \" [x] Sent %r:%r\" % (routing_key, message)\n",
    "connection.close()"
   ]
  },
  {
   "cell_type": "code",
   "execution_count": null,
   "metadata": {
    "code_folding": [
     0
    ],
    "collapsed": false
   },
   "outputs": [],
   "source": [
    "# RECEIVE\n",
    "\n",
    "channel = open_connection()\n",
    "queue_name='document_processing.sync'\n",
    "channel.queue_bind(exchange='celery',\n",
    "                   queue=queue_name,\n",
    "                   routing_key='document_processing.sync.#')"
   ]
  }
 ],
 "metadata": {
  "kernelspec": {
   "display_name": "Python 2",
   "name": "python2"
  },
  "language_info": {
   "codemirror_mode": {
    "name": "ipython",
    "version": 2
   },
   "file_extension": ".py",
   "mimetype": "text/x-python",
   "name": "python",
   "nbconvert_exporter": "python",
   "pygments_lexer": "ipython2",
   "version": "2.7.9"
  }
 },
 "nbformat": 4,
 "nbformat_minor": 0
}