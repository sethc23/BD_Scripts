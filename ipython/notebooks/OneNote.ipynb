{
 "metadata": {
  "name": "",
  "signature": "sha256:f9f07deab6a96746881e536bf6199acc14c6eb4e0ef93c6d2d5a3f63d6287380"
 },
 "nbformat": 3,
 "nbformat_minor": 0,
 "worksheets": [
  {
   "cells": [
    {
     "cell_type": "code",
     "collapsed": false,
     "input": [
      "THIS_NOTEBOOK = 'OneNote'\n",
      "import requests\n",
      "\n",
      "T = {'client_id':'0000000048108926',\n",
      "     'scope':'oauth2ImplicitGrant_auth_scope',\n",
      "     'resp_type':'oauth2ImplicitGrant_auth_response_type',\n",
      "     'redirect':'https://apigee.com/oauth_callback/onenote/oauth2ImplicitGrantCallback',\n",
      "     'method':'GET'}\n",
      "url = 'https://login.live.com/oauth20_authorize.srf?client_id=%(client_id)s&scope=%(scope)s&response_type=%(resp_type)s&redirect_uri=%(redirect)s'%T\n",
      "z=requests.get(url)\n",
      "z"
     ],
     "language": "python",
     "metadata": {
      "run_control": {
       "read_only": false
      }
     },
     "outputs": [
      {
       "metadata": {},
       "output_type": "pyout",
       "prompt_number": 3,
       "text": [
        "<Response [200]>"
       ]
      }
     ],
     "prompt_number": 3
    },
    {
     "cell_type": "code",
     "collapsed": false,
     "input": [
      "z.content"
     ],
     "language": "python",
     "metadata": {},
     "outputs": [
      {
       "metadata": {},
       "output_type": "pyout",
       "prompt_number": 4,
       "text": [
        "'<!--\\n  ~ Copyright (c) 2012 by Apigee Corporation. ALL RIGHTS RESERVED.\\n  ~  The software and information contained herein are trade secrets. This\\n  ~  software is furnished pursuant to a written license agreement and may be\\n  ~  used, copied, transmitted, and stored only in accordance with the terms of\\n  ~  such license and with the inclusion of the above copyright notice.\\n  -->\\n\\n\\n<script>\\n    \\n    var hash = window.location.hash;\\n    var paramsInFragment = hash.substring(1, hash.length);\\n    window.location.href = \"/oauth_callback/onenote/oauth2ImplicitGrantCallbackHandler?\" + paramsInFragment;\\n</script>\\n'"
       ]
      }
     ],
     "prompt_number": 4
    }
   ],
   "metadata": {}
  }
 ]
}