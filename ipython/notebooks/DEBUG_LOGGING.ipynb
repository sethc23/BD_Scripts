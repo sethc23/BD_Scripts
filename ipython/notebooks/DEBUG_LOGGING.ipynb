{
 "metadata": {
  "name": "",
  "signature": "sha256:35f2c6791bfab71375f832a4a375e578d2c1e96b1858dade868c8d8233909ce0"
 },
 "nbformat": 3,
 "nbformat_minor": 0,
 "worksheets": [
  {
   "cells": [
    {
     "cell_type": "code",
     "collapsed": false,
     "input": [
      "import logging\n",
      "import optparse\n",
      "\n",
      "LOGGING_LEVELS = {'critical': logging.CRITICAL,\n",
      "                  'error': logging.ERROR,\n",
      "                  'warning': logging.WARNING,\n",
      "                  'info': logging.INFO,\n",
      "                  'debug': logging.DEBUG}\n",
      "\n",
      "def main():\n",
      "  parser = optparse.OptionParser()\n",
      "  parser.add_option('-l', '--logging-level', help='Logging level')\n",
      "  parser.add_option('-f', '--logging-file', help='Logging file name')\n",
      "  (options, args) = parser.parse_args()\n",
      "  logging_level = LOGGING_LEVELS.get(options.logging_level, logging.NOTSET)\n",
      "  logging.basicConfig(level=logging_level, filename=options.logging_file,\n",
      "                      format='%(asctime)s %(levelname)s: %(message)s',\n",
      "                      datefmt='%Y-%m-%d %H:%M:%S')\n",
      "\n",
      "  # Your program goes here.\n",
      "  # You can access command-line arguments using the args variable.\n",
      "\n",
      "if __name__ == '__main__':\n",
      "  main()"
     ],
     "language": "python",
     "metadata": {},
     "outputs": []
    },
    {
     "cell_type": "markdown",
     "metadata": {},
     "source": [
      "how to use the above:\n",
      "\n",
      "By default, the logging module prints critical, error and warning messages. To change this so that all levels are printed, use:\n",
      "\n",
      "$ ./your-program.py --logging=debug\n",
      "To send log messages to a file called debug.log, use:\n",
      "\n",
      "$ ./your-program.py --logging-level=debug --logging-file=debug.log"
     ]
    }
   ],
   "metadata": {}
  }
 ]
}