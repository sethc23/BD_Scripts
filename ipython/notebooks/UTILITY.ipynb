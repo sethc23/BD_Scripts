{
 "cells": [
  {
   "cell_type": "code",
   "execution_count": null,
   "metadata": {
    "code_folding": [
     0
    ],
    "collapsed": false
   },
   "outputs": [],
   "source": [
    "# Edit files in folder (recursively)\n",
    "\n",
    "from subprocess import Popen as sub_popen\n",
    "from subprocess import PIPE as sub_PIPE\n",
    "from os import walk as os_walk\n",
    "\n",
    "file_list_path = 'tmp.txt'\n",
    "rootdir = '/Users/admin/SERVER2/BD_Scripts'\n",
    "\n",
    "for root, subFolders, files in os_walk(rootdir):\n",
    "    for f in files:\n",
    "        if f[-3:]=='.py':\n",
    "            f_path = root+'/'+f\n",
    "            with open(f_path, \"r\") as fin:\n",
    "                t=fin.read()\n",
    "            with open(f_path, \"w\") as fout:\n",
    "                fout.write(t.replace('/Dropbox/BD_Scripts','/BD_Scripts'))\n",
    "            break"
   ]
  },
  {
   "cell_type": "code",
   "execution_count": 16,
   "metadata": {
    "collapsed": false
   },
   "outputs": [
    {
     "data": {
      "text/plain": [
       "'/Users/admin/SERVER2/BD_Scripts/django/Dropbox/aporo/ENV/lib/python2.7/_abcoll.py'"
      ]
     },
     "execution_count": 16,
     "metadata": {},
     "output_type": "execute_result"
    }
   ],
   "source": [
    "f_path"
   ]
  }
 ],
 "metadata": {
  "kernelspec": {
   "display_name": "IPython (Python 2)",
   "name": "python2"
  },
  "language_info": {
   "codemirror_mode": {
    "name": "ipython",
    "version": 2
   },
   "file_extension": ".py",
   "mimetype": "text/x-python",
   "name": "python",
   "nbconvert_exporter": "python",
   "pygments_lexer": "ipython2",
   "version": "2.7.9"
  }
 },
 "nbformat": 4,
 "nbformat_minor": 0
}