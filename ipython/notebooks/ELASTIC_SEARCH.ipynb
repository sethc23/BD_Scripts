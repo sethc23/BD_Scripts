{
 "cells": [
  {
   "cell_type": "code",
   "execution_count": 1,
   "metadata": {
    "code_folding": [
     0
    ],
    "collapsed": false
   },
   "outputs": [],
   "source": [
    "# Library\n",
    "THIS_NOTEBOOK='elastic_search'\n",
    "import pandas as pd\n",
    "# SEE http://pandas.pydata.org/pandas-docs/stable/options.html#list-of-options\n",
    "pd.set_option('expand_frame_repr',False)\n",
    "pd.set_option('display.max_columns', None)\n",
    "pd.set_option('display.max_rows', 5000)\n",
    "pd.set_option('display.max_colwidth', 1000)\n",
    "pd.set_option('display.width',1000)\n",
    "pd.set_option('display.colheader_justify','left')\n",
    "np = pd.np\n",
    "np.set_printoptions(linewidth=500,threshold=np.nan)\n",
    "from elasticsearch import Elasticsearch as ES\n",
    "es=ES([{'host':'192.168.3.50','port':9200}])"
   ]
  },
  {
   "cell_type": "code",
   "execution_count": null,
   "metadata": {
    "code_folding": [
     0
    ],
    "collapsed": false
   },
   "outputs": [],
   "source": [
    "# Kibana via curl\n",
    "import requests as R\n",
    "\n",
    "a=\"\"\"-XPOST '192.168.3.50:13300/_search?pretty' -d '{\n",
    "   \"query\" : {\n",
    "    ...\n",
    "   },\n",
    "   \"sort\" : [\n",
    "      {\"price\" : {\"order\" : \"asc\", \"mode\" : \"avg\"}}\n",
    "   ]\n",
    "}'\n",
    "\"\"\"\n",
    "all_fields=\"\"\"-XGET 'http://192.168.3.50:13300/_all/_mapping?pretty'\"\"\"\n",
    "a=\"\"\"-XGET 'http://192.168.3.50:13300/test/'\"\"\"\n",
    "!curl $a"
   ]
  },
  {
   "cell_type": "code",
   "execution_count": 13,
   "metadata": {
    "collapsed": false
   },
   "outputs": [
    {
     "name": "stdout",
     "output_type": "stream",
     "text": [
      "{u'_shards': {u'successful': 1, u'failed': 0, u'total': 1}}\n",
      "green  open ngx_syslog 1 0  9 0 21.3kb 21.3kb \n",
      "green  open syslog-ng  1 0 10 0 18.8kb 18.8kb \n",
      "yellow open .kibana    1 1  1 0  2.1kb  2.1kb \n",
      "\n"
     ]
    }
   ],
   "source": [
    "print es.indices.refresh('ngx_syslog')\n",
    "print es.cat.indices()"
   ]
  },
  {
   "cell_type": "code",
   "execution_count": null,
   "metadata": {
    "code_folding": [
     0
    ],
    "collapsed": false
   },
   "outputs": [],
   "source": [
    "# Get most recent post -- 'syslog-ng':\n",
    "es.search('syslog-ng',body={\n",
    "  \"query\": {\n",
    "    \"match_all\": {}\n",
    "  },\n",
    "  \"size\": 20,\n",
    "  \"sort\": [\n",
    "    {\n",
    "      \"_timestamp\": {\n",
    "        \"order\": \"desc\"\n",
    "      }\n",
    "    }\n",
    "  ]\n",
    "})"
   ]
  },
  {
   "cell_type": "code",
   "execution_count": null,
   "metadata": {
    "code_folding": [
     0
    ],
    "collapsed": false
   },
   "outputs": [],
   "source": [
    "# Get most recent post -- 'ngx_syslog2':\n",
    "es.indices.refresh('ngx_syslog2')\n",
    "t=es.search('ngx_syslog2',body={\n",
    "  \"query\": {\n",
    "    \"match_all\": {}\n",
    "  },\n",
    "  \"size\": 100,\n",
    "  \"sort\": [\n",
    "    {\n",
    "      \"ISODATE\": {\n",
    "        \"order\": \"desc\"\n",
    "      }\n",
    "    }\n",
    "  ]\n",
    "})\n",
    "msgs=map(lambda s: s['_source']['MSG'],t['hits']['hits'])\n",
    "dates=map(lambda s: s['_source']['ISODATE'],t['hits']['hits'])\n",
    "df = pd.DataFrame({'date':dates,'msg':msgs})\n",
    "df"
   ]
  },
  {
   "cell_type": "code",
   "execution_count": null,
   "metadata": {
    "collapsed": false
   },
   "outputs": [],
   "source": [
    "t['hits']['hits']"
   ]
  },
  {
   "cell_type": "code",
   "execution_count": null,
   "metadata": {
    "collapsed": false
   },
   "outputs": [],
   "source": [
    "# Cmd Examples\n",
    "print es.cat.shards('test')\n",
    "print es.indices.get_aliases('test')\n",
    "print es.indices.segments('test')\n",
    "print es.indices.status('test')\n",
    "print es.search(index='syslog-ng',fields=['id'])\n",
    "print es.get(index='syslog-ng',id=\"AUpv2n1-DVG5Y0kVWwdy\",doc_type='_all')\n",
    "print es.count()\n",
    "print es.indices.refresh('test')\n",
    "print es.indices.get_mapping('syslog-ng','_all')\n",
    "print es.indices.get_field_mapping('test')\n",
    "# Delete mapping\n",
    "#es.indices.delete_mapping(index=['ngx_syslog2'],doc_type='_all',master_timeout=3600)"
   ]
  },
  {
   "cell_type": "code",
   "execution_count": null,
   "metadata": {
    "code_folding": [],
    "collapsed": false
   },
   "outputs": [],
   "source": [
    "# Delete Index\n",
    "es.indices.delete(index=[''],master_timeout=3600)"
   ]
  },
  {
   "cell_type": "code",
   "execution_count": null,
   "metadata": {
    "collapsed": false
   },
   "outputs": [],
   "source": [
    "t=es.indices.get(index=['ngx_syslog'])\n",
    "t"
   ]
  },
  {
   "cell_type": "code",
   "execution_count": null,
   "metadata": {
    "collapsed": false
   },
   "outputs": [],
   "source": [
    "t['ngx_syslog']['mappings']['message']['properties']"
   ]
  },
  {
   "cell_type": "code",
   "execution_count": 3,
   "metadata": {
    "code_folding": [
     0
    ],
    "collapsed": false
   },
   "outputs": [
    {
     "name": "stdout",
     "output_type": "stream",
     "text": [
      "{\"acknowledged\":true}"
     ]
    }
   ],
   "source": [
    "# Upgrade Index\n",
    "a=\"\"\"\n",
    "'{ \n",
    "    \"mappings\": {\n",
    "        \"message\": {\n",
    "            \"properties\"    : {\n",
    "                \"ISODATE\"   : { \"type\": \"date\"    },\n",
    "                \"HOSTFROM\"  : { \"type\": \"string\"  },\n",
    "                \"SOURCEIP\"  : { \"type\": \"string\"  },\n",
    "                \"HOST\"      : { \"type\": \"string\"  },\n",
    "                \"SOURCE\"    : { \"type\": \"string\"  },\n",
    "                \"SEQNUM\"    : { \"type\": \"integer\" },\n",
    "                \"LEVEL\"     : { \"type\": \"string\"  },\n",
    "                \"TAG\"       : { \"type\": \"string\"  },\n",
    "                \"PROGRAM\"   : { \"type\": \"string\"  },\n",
    "                \"PID\"       : { \"type\": \"integer\" },\n",
    "                \"MSGID\"     : { \"type\": \"string\"  },\n",
    "                \"MSG\"       : { \"type\": \"string\"  },\n",
    "                \"SDATA\"     : { \"type\": \"string\"  }\n",
    "            }\n",
    "        }\n",
    "    }\n",
    "}'\n",
    "\"\"\".replace('\\n','')\n",
    "!curl -XPOST 'http://192.168.3.50:9200/ngx_syslog' -d $a"
   ]
  }
 ],
 "metadata": {
  "kernelspec": {
   "display_name": "Python 2",
   "name": "python2"
  },
  "language_info": {
   "codemirror_mode": {
    "name": "ipython",
    "version": 2
   },
   "file_extension": ".py",
   "mimetype": "text/x-python",
   "name": "python",
   "nbconvert_exporter": "python",
   "pygments_lexer": "ipython2",
   "version": "2.7.9"
  }
 },
 "nbformat": 4,
 "nbformat_minor": 0
}