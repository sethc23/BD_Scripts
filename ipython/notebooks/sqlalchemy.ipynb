{
 "metadata": {
  "name": "",
  "signature": "sha256:244e47d4d366fc1f90e2a17025b8f3a3f71fd2da964874538393994c944a455c"
 },
 "nbformat": 3,
 "nbformat_minor": 0,
 "worksheets": [
  {
   "cells": [
    {
     "cell_type": "heading",
     "level": 1,
     "metadata": {},
     "source": [
      "Define a Table"
     ]
    },
    {
     "cell_type": "code",
     "collapsed": false,
     "input": [
      "from sqlalchemy import Table, Column, Integer, String, MetaData\n",
      "from geoalchemy2 import Geometry"
     ],
     "language": "python",
     "metadata": {},
     "outputs": []
    },
    {
     "cell_type": "code",
     "collapsed": false,
     "input": [
      "that each new dg that comes into group has to make a larger number of connections,\n",
      "however, the current DG continue to require no extra work? right?\n",
      "\n",
      "first DG -- no connections\n",
      "2nd DG -- 1 connection (w/ 1st)\n",
      "3rd DG -- 2 connections (w/ 1st, 2nd)\n",
      "4    3   \n",
      "\n",
      "Is first DG connected with all 2-4?  yes.\n",
      "\n"
     ],
     "language": "python",
     "metadata": {},
     "outputs": []
    },
    {
     "cell_type": "code",
     "collapsed": false,
     "input": [],
     "language": "python",
     "metadata": {},
     "outputs": []
    },
    {
     "cell_type": "code",
     "collapsed": false,
     "input": [],
     "language": "python",
     "metadata": {},
     "outputs": []
    },
    {
     "cell_type": "code",
     "collapsed": false,
     "input": [],
     "language": "python",
     "metadata": {},
     "outputs": []
    }
   ],
   "metadata": {}
  }
 ]
}